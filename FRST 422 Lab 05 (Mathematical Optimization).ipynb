{
 "cells": [
  {
   "cell_type": "markdown",
   "metadata": {},
   "source": [
    "This notebook implements the classic _Steers and Trees_ problem, as described in Davis and Johnson (2001) and Dykstra (1984) textbooks. \n",
    "\n",
    "In the first part of this lab, we solve this problem graphically using an interactive widget.\n",
    "\n",
    "In the second part of the lab, we use the open source PuLP package to formulate and solve both LP and MIP formulations."
   ]
  },
  {
   "cell_type": "markdown",
   "metadata": {},
   "source": [
    "# The Steers and Trees Problem\n",
    "\n",
    "The following description is adapted from Davis and Johnson (2001).\n",
    "\n",
    "Sylvia Forester, a part-time farmer and forester from around Merritt, has 24 hectares of fallow land available and wants to use it to increase her income. She can either plant hybrid Christmas tree seedlings that mature in 1 year, or fatten steers by reserving part of her land for pasture. The trees are planted and sold in lots of 1000. It takes 1.5 hectares to grow a lot of trees and 4.0 hectares to fatten a steer. Sylvia is busy and only has 200 hours per year to spend on this enterprise. Experience shows that is takes 20 hours to cultivate, prune, harvest, and package one lot of trees and also 20 hours of effort per steer. She has \\\\$1200 of operating budget available for the year, and annual expenses are \\\\$30 per lot of trees and \\\\$240 per steer. She has already signed a contract with her neighbour for two steers. At current prices, the trees will return a net revenue of \\\\$0.50 each and steers will return a net revenue of \\\\$1000 each. Sylvia wants to maximize net revenue from this operation at the end of the year.\n",
    "\n",
    "The goal is to maximize net revenue from this operation."
   ]
  },
  {
   "cell_type": "markdown",
   "metadata": {},
   "source": [
    "# Procedure"
   ]
  },
  {
   "cell_type": "markdown",
   "metadata": {},
   "source": [
    "Download and install the PuLP package."
   ]
  },
  {
   "cell_type": "code",
   "execution_count": null,
   "metadata": {},
   "outputs": [],
   "source": [
    "!pip install pulp"
   ]
  },
  {
   "cell_type": "markdown",
   "metadata": {},
   "source": [
    "Import required packages."
   ]
  },
  {
   "cell_type": "code",
   "execution_count": null,
   "metadata": {},
   "outputs": [],
   "source": [
    "%matplotlib inline\n",
    "from pulp import *\n",
    "from ipywidgets import interact, widgets\n",
    "import numpy as np\n",
    "import matplotlib.pyplot as plt"
   ]
  },
  {
   "cell_type": "markdown",
   "metadata": {},
   "source": [
    "## Part I: Solve the problem graphically"
   ]
  },
  {
   "cell_type": "markdown",
   "metadata": {},
   "source": [
    "Define a helper function to solve a linear equation for `x2`."
   ]
  },
  {
   "cell_type": "code",
   "execution_count": null,
   "metadata": {},
   "outputs": [],
   "source": [
    "def y(x1, c1, c2, rhs):\n",
    "    return (rhs - c1*x1)/c2"
   ]
  },
  {
   "cell_type": "markdown",
   "metadata": {},
   "source": [
    "Sample the `x1` dimension."
   ]
  },
  {
   "cell_type": "code",
   "execution_count": null,
   "metadata": {},
   "outputs": [],
   "source": [
    "x = np.arange(0, 10, 1)"
   ]
  },
  {
   "cell_type": "code",
   "execution_count": null,
   "metadata": {},
   "outputs": [],
   "source": [
    "def showfig(z=0):\n",
    "    fig, ax = plt.subplots(figsize=(12, 8))\n",
    "    plt.plot(x, y(x, 4, 1.5, 24), ':', label='land')\n",
    "    plt.plot(x, y(x, 240, 30, 1200), ':', label='budget')\n",
    "    plt.plot(x, y(x, 20, 20, 200), ':', label='labour')\n",
    "    plt.plot(x, y(x, 1000, 500, z), '-', label='objective') # objective function\n",
    "\n",
    "    plt.plot([2, 2], [0, 8], 'o-')\n",
    "    plt.plot([2, 3.6], [8, 6.4], 'o-')\n",
    "    plt.plot([3.6, 4.5], [6.4, 4], 'o-')\n",
    "    plt.plot([4.5, 5], [4, 0], 'o-')\n",
    "    plt.plot([2, 5], [0, 0], 'o-')\n",
    "\n",
    "    plt.axvline(x=2, linestyle=':')\n",
    "    plt.xlim(0, 6)\n",
    "    plt.ylim(0, 12)\n",
    "    plt.legend()"
   ]
  },
  {
   "cell_type": "code",
   "execution_count": null,
   "metadata": {},
   "outputs": [],
   "source": [
    "interact(showfig, z=widgets.IntSlider(min=0, max=10000, step=100, value=0))"
   ]
  },
  {
   "cell_type": "markdown",
   "metadata": {},
   "source": [
    "## Part II: Solve the problem with a solver"
   ]
  },
  {
   "cell_type": "markdown",
   "metadata": {},
   "source": [
    "Define a new `LpProblem` instance."
   ]
  },
  {
   "cell_type": "code",
   "execution_count": null,
   "metadata": {},
   "outputs": [],
   "source": [
    "prob = LpProblem('Steers and Trees', LpMaximize)"
   ]
  },
  {
   "cell_type": "markdown",
   "metadata": {},
   "source": [
    "Define `x1` and `x2` variables."
   ]
  },
  {
   "cell_type": "code",
   "execution_count": null,
   "metadata": {},
   "outputs": [],
   "source": [
    "x1 = LpVariable('x1', 0, None, cat='C')\n",
    "x2 = LpVariable('x2', 0, None, cat='C')"
   ]
  },
  {
   "cell_type": "markdown",
   "metadata": {},
   "source": [
    "Define constraints."
   ]
  },
  {
   "cell_type": "code",
   "execution_count": null,
   "metadata": {},
   "outputs": [],
   "source": [
    "prob += 1000*x1 + 500*x2,         'revenue ' \n",
    "prob +=    4*x1 + 1.5*x2 <=   24, 'land    '\n",
    "prob +=  240*x1 +  30*x2 <= 1200, 'budget  ' \n",
    "prob +=   20*x1 +  20*x2 <=  200, 'labour  '\n",
    "prob +=      x1          >=    2, 'contract'"
   ]
  },
  {
   "cell_type": "markdown",
   "metadata": {},
   "source": [
    "Output the optimization problem to a file (for inspection later)."
   ]
  },
  {
   "cell_type": "code",
   "execution_count": null,
   "metadata": {},
   "outputs": [],
   "source": [
    "prob.writeLP('steersandtrees.lp')"
   ]
  },
  {
   "cell_type": "markdown",
   "metadata": {},
   "source": [
    "Solve the optimization problem (using the default `PuLP` algorithm)."
   ]
  },
  {
   "cell_type": "code",
   "execution_count": null,
   "metadata": {},
   "outputs": [],
   "source": [
    "prob.solve()"
   ]
  },
  {
   "cell_type": "markdown",
   "metadata": {},
   "source": [
    "Display the objective function value."
   ]
  },
  {
   "cell_type": "code",
   "execution_count": null,
   "metadata": {},
   "outputs": [],
   "source": [
    "value(prob.objective)"
   ]
  },
  {
   "cell_type": "markdown",
   "metadata": {},
   "source": [
    "Display some additional information about the solution."
   ]
  },
  {
   "cell_type": "code",
   "execution_count": null,
   "metadata": {},
   "outputs": [],
   "source": [
    "print(\"Status:\", LpStatus[prob.status])\n",
    "\n",
    "for v in prob.variables():\n",
    "    print(v.name, \"=\", v.varValue, \"\\tReduced Cost =\", v.dj)\n",
    "\n",
    "print(\"objective=\", value(prob.objective))\n",
    "\n",
    "print(\"\\nSensitivity Analysis\\nConstraint\\t\\t\\t\\tSPrice\\tSlack\")\n",
    "for name, c in list(prob.constraints.items()):\n",
    "    print(name, \":\", str(c).ljust(20), \"\\t\", str(c.pi).rjust(5), \"\\t\", str(c.slack).rjust(5))"
   ]
  },
  {
   "cell_type": "code",
   "execution_count": null,
   "metadata": {},
   "outputs": [],
   "source": []
  }
 ],
 "metadata": {
  "kernelspec": {
   "display_name": "Python 3",
   "language": "python",
   "name": "python3"
  },
  "language_info": {
   "codemirror_mode": {
    "name": "ipython",
    "version": 3
   },
   "file_extension": ".py",
   "mimetype": "text/x-python",
   "name": "python",
   "nbconvert_exporter": "python",
   "pygments_lexer": "ipython3",
   "version": "3.7.3"
  }
 },
 "nbformat": 4,
 "nbformat_minor": 4
}
